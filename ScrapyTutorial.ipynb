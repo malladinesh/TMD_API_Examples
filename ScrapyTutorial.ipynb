{
 "cells": [
  {
   "cell_type": "markdown",
   "metadata": {},
   "source": [
    "# Web scraping using Scrapy\n",
    "\n",
    "In this notebook, we use Scrapy to collect the top headlines from misc discussions on BlackHatWorld (https://www.blackhatworld.com/).\n",
    "*Adapted from Jitse-Jan van Waterschoot tutorial (https://www.jitsejan.com/using-scrapy-in-jupyter-notebook.html).*\n",
    "\n",
    "## Pre-requisites\n",
    "First, we set up the environment:"
   ]
  },
  {
   "cell_type": "code",
   "execution_count": 1,
   "metadata": {},
   "outputs": [],
   "source": [
    "# Settings for notebook\n",
    "from IPython.core.interactiveshell import InteractiveShell\n",
    "InteractiveShell.ast_node_interactivity = \"all\"\n",
    "\n",
    "# Import Scrapy & co.\n",
    "import logging\n",
    "import json\n",
    "import pandas as pd\n",
    "import scrapy\n",
    "from scrapy.crawler import CrawlerProcess"
   ]
  },
  {
   "cell_type": "markdown",
   "metadata": {},
   "source": [
    "## Set up a pipeline\n",
    "Next, we create a simple pipeline that will write the results of the scraping to a JSON dump:"
   ]
  },
  {
   "cell_type": "code",
   "execution_count": 2,
   "metadata": {},
   "outputs": [],
   "source": [
    "class JsonWriterPipeline(object):\n",
    "\n",
    "    def open_spider(self, spider):\n",
    "        self.file = open('blackhatworld_misc_discussions.jl', 'w')\n",
    "\n",
    "    def close_spider(self, spider):\n",
    "        self.file.close()\n",
    "\n",
    "    def process_item(self, item, spider):\n",
    "        line = json.dumps(dict(item)) + '\\n'\n",
    "        self.file.write(line)\n",
    "        return item"
   ]
  },
  {
   "cell_type": "markdown",
   "metadata": {},
   "source": [
    "## Define the spider\n",
    "\n",
    "In the ForumSpider class we define from which URLs crawl. We set the logging level of the crawler to warning, otherwise the notebook is overloaded with DEBUG messages. Finally, we define how the retrieved data is processed: For each entry, we extract the title, author, date and upvotes. The CSS selectors are determined from the page source code. For easy handling of unique CSS/XPATHs, try Andrew Cantino's SelectorGadget: https://selectorgadget.com/."
   ]
  },
  {
   "cell_type": "code",
   "execution_count": 3,
   "metadata": {},
   "outputs": [],
   "source": [
    "class ForumSpider(scrapy.Spider):\n",
    "    name = \"blackhatworld_misc_discussions\"\n",
    "    start_urls = ['https://www.blackhatworld.com/forums/misc.18/'] + \\\n",
    "        ['https://www.blackhatworld.com/forums/misc.18/page-' + str(i) for i in range(2,20)]\n",
    "        \n",
    "    custom_settings = {\n",
    "        'LOG_LEVEL': logging.WARNING,\n",
    "        'ITEM_PIPELINES': {'__main__.JsonWriterPipeline': 1}, # Used for pipeline 1\n",
    "    }\n",
    "        \n",
    "    def parse(self, response):\n",
    "        for quote in response.css('.visible .titleText'):\n",
    "            yield {\n",
    "                'title': quote.css('.PreviewTooltip::text').extract_first(),\n",
    "                'author': quote.css('.username::text').extract_first(),\n",
    "                'date': quote.css('.DateTime::text').extract_first(),\n",
    "                'votes': quote.css('strong::text').extract_first(),\n",
    "            }"
   ]
  },
  {
   "cell_type": "markdown",
   "metadata": {},
   "source": [
    "## Start the crawler\n",
    "We run the crawler, setting a custom user agent:"
   ]
  },
  {
   "cell_type": "code",
   "execution_count": 4,
   "metadata": {},
   "outputs": [
    {
     "name": "stderr",
     "output_type": "stream",
     "text": [
      "2019-02-05 11:31:59 [scrapy.utils.log] INFO: Scrapy 1.5.1 started (bot: scrapybot)\n",
      "2019-02-05 11:31:59 [scrapy.utils.log] INFO: Versions: lxml 4.3.0.0, libxml2 2.9.8, cssselect 1.0.3, parsel 1.5.1, w3lib 1.20.0, Twisted 17.5.0, Python 3.6.8 |Anaconda, Inc.| (default, Dec 29 2018, 19:04:46) - [GCC 4.2.1 Compatible Clang 4.0.1 (tags/RELEASE_401/final)], pyOpenSSL 18.0.0 (OpenSSL 1.1.1  11 Sep 2018), cryptography 2.4.2, Platform Darwin-18.2.0-x86_64-i386-64bit\n",
      "2019-02-05 11:31:59 [scrapy.crawler] INFO: Overridden settings: {'LOG_LEVEL': 30, 'USER_AGENT': 'Mozilla/4.0 (compatible; MSIE 7.0; Windows NT 5.1)'}\n"
     ]
    },
    {
     "data": {
      "text/plain": [
       "<Deferred at 0x117064048>"
      ]
     },
     "execution_count": 4,
     "metadata": {},
     "output_type": "execute_result"
    }
   ],
   "source": [
    "process = CrawlerProcess({\n",
    "    'USER_AGENT': 'Mozilla/4.0 (compatible; MSIE 7.0; Windows NT 5.1)'\n",
    "})\n",
    "\n",
    "process.crawl(ForumSpider)\n",
    "process.start()"
   ]
  },
  {
   "cell_type": "markdown",
   "metadata": {},
   "source": [
    "## Check the files\n",
    "Checking whether the output file has been created and reading some raw output:"
   ]
  },
  {
   "cell_type": "code",
   "execution_count": 5,
   "metadata": {},
   "outputs": [
    {
     "name": "stdout",
     "output_type": "stream",
     "text": [
      "-rw-r--r--  1 maurice  staff  42136 Feb  5 11:32 blackhatworld_misc_discussions.jl\r\n"
     ]
    }
   ],
   "source": [
    "ll blackhatworld_misc_discussions.jl"
   ]
  },
  {
   "cell_type": "code",
   "execution_count": 6,
   "metadata": {},
   "outputs": [
    {
     "name": "stdout",
     "output_type": "stream",
     "text": [
      "{\"title\": \"Forum Bot - Auto-Captcha Forum Profile Bot\", \"author\": \"andreyg13\", \"date\": \"Oct 9, 2011\", \"votes\": \"7\"}\r\n",
      "{\"title\": \"[$100 OFF] Keyword Scout - The Finest Keyword Research Tool - Amazon Scraper, Addons &More\", \"author\": \"macdonjo3\", \"date\": \"Oct 4, 2011\", \"votes\": \"11\"}\r\n",
      "{\"title\": \"The Most Advanced WP Plugin For Getting Masses of Free Viral Traffic To Your Website\", \"author\": \"shezboy\", \"date\": \"Oct 3, 2011\", \"votes\": \"11\"}\r\n"
     ]
    }
   ],
   "source": [
    "!tail -n 3 blackhatworld_misc_discussions.jl"
   ]
  },
  {
   "cell_type": "markdown",
   "metadata": {},
   "source": [
    "## Create dataframes\n",
    "We read the results into a Pandas dataframe. To see the post witht the most upvotes in the retrieved data, we sort the frame and display its head:"
   ]
  },
  {
   "cell_type": "code",
   "execution_count": 7,
   "metadata": {},
   "outputs": [
    {
     "data": {
      "text/html": [
       "<style  type=\"text/css\" >\n",
       "    #T_913d23a8_2963_11e9_8d73_8c8590198db6row0_col0 {\n",
       "            text-align:  left;\n",
       "        }    #T_913d23a8_2963_11e9_8d73_8c8590198db6row0_col1 {\n",
       "            text-align:  left;\n",
       "        }    #T_913d23a8_2963_11e9_8d73_8c8590198db6row0_col2 {\n",
       "            text-align:  left;\n",
       "        }    #T_913d23a8_2963_11e9_8d73_8c8590198db6row0_col3 {\n",
       "            text-align:  left;\n",
       "        }    #T_913d23a8_2963_11e9_8d73_8c8590198db6row1_col0 {\n",
       "            text-align:  left;\n",
       "        }    #T_913d23a8_2963_11e9_8d73_8c8590198db6row1_col1 {\n",
       "            text-align:  left;\n",
       "        }    #T_913d23a8_2963_11e9_8d73_8c8590198db6row1_col2 {\n",
       "            text-align:  left;\n",
       "        }    #T_913d23a8_2963_11e9_8d73_8c8590198db6row1_col3 {\n",
       "            text-align:  left;\n",
       "        }    #T_913d23a8_2963_11e9_8d73_8c8590198db6row2_col0 {\n",
       "            text-align:  left;\n",
       "        }    #T_913d23a8_2963_11e9_8d73_8c8590198db6row2_col1 {\n",
       "            text-align:  left;\n",
       "        }    #T_913d23a8_2963_11e9_8d73_8c8590198db6row2_col2 {\n",
       "            text-align:  left;\n",
       "        }    #T_913d23a8_2963_11e9_8d73_8c8590198db6row2_col3 {\n",
       "            text-align:  left;\n",
       "        }    #T_913d23a8_2963_11e9_8d73_8c8590198db6row3_col0 {\n",
       "            text-align:  left;\n",
       "        }    #T_913d23a8_2963_11e9_8d73_8c8590198db6row3_col1 {\n",
       "            text-align:  left;\n",
       "        }    #T_913d23a8_2963_11e9_8d73_8c8590198db6row3_col2 {\n",
       "            text-align:  left;\n",
       "        }    #T_913d23a8_2963_11e9_8d73_8c8590198db6row3_col3 {\n",
       "            text-align:  left;\n",
       "        }    #T_913d23a8_2963_11e9_8d73_8c8590198db6row4_col0 {\n",
       "            text-align:  left;\n",
       "        }    #T_913d23a8_2963_11e9_8d73_8c8590198db6row4_col1 {\n",
       "            text-align:  left;\n",
       "        }    #T_913d23a8_2963_11e9_8d73_8c8590198db6row4_col2 {\n",
       "            text-align:  left;\n",
       "        }    #T_913d23a8_2963_11e9_8d73_8c8590198db6row4_col3 {\n",
       "            text-align:  left;\n",
       "        }    #T_913d23a8_2963_11e9_8d73_8c8590198db6row5_col0 {\n",
       "            text-align:  left;\n",
       "        }    #T_913d23a8_2963_11e9_8d73_8c8590198db6row5_col1 {\n",
       "            text-align:  left;\n",
       "        }    #T_913d23a8_2963_11e9_8d73_8c8590198db6row5_col2 {\n",
       "            text-align:  left;\n",
       "        }    #T_913d23a8_2963_11e9_8d73_8c8590198db6row5_col3 {\n",
       "            text-align:  left;\n",
       "        }    #T_913d23a8_2963_11e9_8d73_8c8590198db6row6_col0 {\n",
       "            text-align:  left;\n",
       "        }    #T_913d23a8_2963_11e9_8d73_8c8590198db6row6_col1 {\n",
       "            text-align:  left;\n",
       "        }    #T_913d23a8_2963_11e9_8d73_8c8590198db6row6_col2 {\n",
       "            text-align:  left;\n",
       "        }    #T_913d23a8_2963_11e9_8d73_8c8590198db6row6_col3 {\n",
       "            text-align:  left;\n",
       "        }    #T_913d23a8_2963_11e9_8d73_8c8590198db6row7_col0 {\n",
       "            text-align:  left;\n",
       "        }    #T_913d23a8_2963_11e9_8d73_8c8590198db6row7_col1 {\n",
       "            text-align:  left;\n",
       "        }    #T_913d23a8_2963_11e9_8d73_8c8590198db6row7_col2 {\n",
       "            text-align:  left;\n",
       "        }    #T_913d23a8_2963_11e9_8d73_8c8590198db6row7_col3 {\n",
       "            text-align:  left;\n",
       "        }    #T_913d23a8_2963_11e9_8d73_8c8590198db6row8_col0 {\n",
       "            text-align:  left;\n",
       "        }    #T_913d23a8_2963_11e9_8d73_8c8590198db6row8_col1 {\n",
       "            text-align:  left;\n",
       "        }    #T_913d23a8_2963_11e9_8d73_8c8590198db6row8_col2 {\n",
       "            text-align:  left;\n",
       "        }    #T_913d23a8_2963_11e9_8d73_8c8590198db6row8_col3 {\n",
       "            text-align:  left;\n",
       "        }    #T_913d23a8_2963_11e9_8d73_8c8590198db6row9_col0 {\n",
       "            text-align:  left;\n",
       "        }    #T_913d23a8_2963_11e9_8d73_8c8590198db6row9_col1 {\n",
       "            text-align:  left;\n",
       "        }    #T_913d23a8_2963_11e9_8d73_8c8590198db6row9_col2 {\n",
       "            text-align:  left;\n",
       "        }    #T_913d23a8_2963_11e9_8d73_8c8590198db6row9_col3 {\n",
       "            text-align:  left;\n",
       "        }</style><table id=\"T_913d23a8_2963_11e9_8d73_8c8590198db6\" ><thead>    <tr>        <th class=\"blank level0\" ></th>        <th class=\"col_heading level0 col0\" >author</th>        <th class=\"col_heading level0 col1\" >date</th>        <th class=\"col_heading level0 col2\" >title</th>        <th class=\"col_heading level0 col3\" >votes</th>    </tr></thead><tbody>\n",
       "                <tr>\n",
       "                        <th id=\"T_913d23a8_2963_11e9_8d73_8c8590198db6level0_row0\" class=\"row_heading level0 row0\" >36</th>\n",
       "                        <td id=\"T_913d23a8_2963_11e9_8d73_8c8590198db6row0_col0\" class=\"data row0 col0\" >secondeye</td>\n",
       "                        <td id=\"T_913d23a8_2963_11e9_8d73_8c8590198db6row0_col1\" class=\"data row0 col1\" >2012-07-05 00:00:00</td>\n",
       "                        <td id=\"T_913d23a8_2963_11e9_8d73_8c8590198db6row0_col2\" class=\"data row0 col2\" >PayPal Solutions - Send Receive & Withdrawal - Remove Limit from PayPal Easily</td>\n",
       "                        <td id=\"T_913d23a8_2963_11e9_8d73_8c8590198db6row0_col3\" class=\"data row0 col3\" >200</td>\n",
       "            </tr>\n",
       "            <tr>\n",
       "                        <th id=\"T_913d23a8_2963_11e9_8d73_8c8590198db6level0_row1\" class=\"row_heading level0 row1\" >27</th>\n",
       "                        <td id=\"T_913d23a8_2963_11e9_8d73_8c8590198db6row1_col0\" class=\"data row1 col0\" >nuaru</td>\n",
       "                        <td id=\"T_913d23a8_2963_11e9_8d73_8c8590198db6row1_col1\" class=\"data row1 col1\" >2011-05-02 00:00:00</td>\n",
       "                        <td id=\"T_913d23a8_2963_11e9_8d73_8c8590198db6row1_col2\" class=\"data row1 col2\" >ZennoPoster 5 - Automate any task in the Internet</td>\n",
       "                        <td id=\"T_913d23a8_2963_11e9_8d73_8c8590198db6row1_col3\" class=\"data row1 col3\" >94</td>\n",
       "            </tr>\n",
       "            <tr>\n",
       "                        <th id=\"T_913d23a8_2963_11e9_8d73_8c8590198db6level0_row2\" class=\"row_heading level0 row2\" >121</th>\n",
       "                        <td id=\"T_913d23a8_2963_11e9_8d73_8c8590198db6row2_col0\" class=\"data row2 col0\" >NatashaNixon</td>\n",
       "                        <td id=\"T_913d23a8_2963_11e9_8d73_8c8590198db6row2_col1\" class=\"data row2 col1\" >2014-03-19 00:00:00</td>\n",
       "                        <td id=\"T_913d23a8_2963_11e9_8d73_8c8590198db6row2_col2\" class=\"data row2 col2\" >FLOOD Your Site With Targeted TRAFFIC. FREE Reviews!</td>\n",
       "                        <td id=\"T_913d23a8_2963_11e9_8d73_8c8590198db6row2_col3\" class=\"data row2 col3\" >88</td>\n",
       "            </tr>\n",
       "            <tr>\n",
       "                        <th id=\"T_913d23a8_2963_11e9_8d73_8c8590198db6level0_row3\" class=\"row_heading level0 row3\" >108</th>\n",
       "                        <td id=\"T_913d23a8_2963_11e9_8d73_8c8590198db6row3_col0\" class=\"data row3 col0\" >Typlo</td>\n",
       "                        <td id=\"T_913d23a8_2963_11e9_8d73_8c8590198db6row3_col1\" class=\"data row3 col1\" >2011-08-15 00:00:00</td>\n",
       "                        <td id=\"T_913d23a8_2963_11e9_8d73_8c8590198db6row3_col2\" class=\"data row3 col2\" >High Volumes of WEBSITE TRAFFIC for 40+ COUNTRIES Over 200K A DAY $1 per 1K VISITORS!</td>\n",
       "                        <td id=\"T_913d23a8_2963_11e9_8d73_8c8590198db6row3_col3\" class=\"data row3 col3\" >77</td>\n",
       "            </tr>\n",
       "            <tr>\n",
       "                        <th id=\"T_913d23a8_2963_11e9_8d73_8c8590198db6level0_row4\" class=\"row_heading level0 row4\" >38</th>\n",
       "                        <td id=\"T_913d23a8_2963_11e9_8d73_8c8590198db6row4_col0\" class=\"data row4 col0\" >namhq89</td>\n",
       "                        <td id=\"T_913d23a8_2963_11e9_8d73_8c8590198db6row4_col1\" class=\"data row4 col1\" >2015-08-29 00:00:00</td>\n",
       "                        <td id=\"T_913d23a8_2963_11e9_8d73_8c8590198db6row4_col2\" class=\"data row4 col2\" >[MONEY BACK GUARANTEE] Let Me Find You the RIGHT Keywords to DOMINATE your niche</td>\n",
       "                        <td id=\"T_913d23a8_2963_11e9_8d73_8c8590198db6row4_col3\" class=\"data row4 col3\" >46</td>\n",
       "            </tr>\n",
       "            <tr>\n",
       "                        <th id=\"T_913d23a8_2963_11e9_8d73_8c8590198db6level0_row5\" class=\"row_heading level0 row5\" >101</th>\n",
       "                        <td id=\"T_913d23a8_2963_11e9_8d73_8c8590198db6row5_col0\" class=\"data row5 col0\" >MosesW</td>\n",
       "                        <td id=\"T_913d23a8_2963_11e9_8d73_8c8590198db6row5_col1\" class=\"data row5 col1\" >2014-04-28 00:00:00</td>\n",
       "                        <td id=\"T_913d23a8_2963_11e9_8d73_8c8590198db6row5_col2\" class=\"data row5 col2\" >PandaBot.Net Free SEO Software for Websites, YouTube Videos and Social Media</td>\n",
       "                        <td id=\"T_913d23a8_2963_11e9_8d73_8c8590198db6row5_col3\" class=\"data row5 col3\" >46</td>\n",
       "            </tr>\n",
       "            <tr>\n",
       "                        <th id=\"T_913d23a8_2963_11e9_8d73_8c8590198db6level0_row6\" class=\"row_heading level0 row6\" >286</th>\n",
       "                        <td id=\"T_913d23a8_2963_11e9_8d73_8c8590198db6row6_col0\" class=\"data row6 col0\" >andreyg13</td>\n",
       "                        <td id=\"T_913d23a8_2963_11e9_8d73_8c8590198db6row6_col1\" class=\"data row6 col1\" >2011-10-17 00:00:00</td>\n",
       "                        <td id=\"T_913d23a8_2963_11e9_8d73_8c8590198db6row6_col2\" class=\"data row6 col2\" >CAPTCHA SNIPER Your Auto Captcha Solving Software!</td>\n",
       "                        <td id=\"T_913d23a8_2963_11e9_8d73_8c8590198db6row6_col3\" class=\"data row6 col3\" >45</td>\n",
       "            </tr>\n",
       "            <tr>\n",
       "                        <th id=\"T_913d23a8_2963_11e9_8d73_8c8590198db6level0_row7\" class=\"row_heading level0 row7\" >125</th>\n",
       "                        <td id=\"T_913d23a8_2963_11e9_8d73_8c8590198db6row7_col0\" class=\"data row7 col0\" >globolsales</td>\n",
       "                        <td id=\"T_913d23a8_2963_11e9_8d73_8c8590198db6row7_col1\" class=\"data row7 col1\" >2009-02-17 00:00:00</td>\n",
       "                        <td id=\"T_913d23a8_2963_11e9_8d73_8c8590198db6row7_col2\" class=\"data row7 col2\" >OUTSOURCE COMPANY - GET YOUR FULL TIME STAFF for 300 USD/month salary only</td>\n",
       "                        <td id=\"T_913d23a8_2963_11e9_8d73_8c8590198db6row7_col3\" class=\"data row7 col3\" >44</td>\n",
       "            </tr>\n",
       "            <tr>\n",
       "                        <th id=\"T_913d23a8_2963_11e9_8d73_8c8590198db6level0_row8\" class=\"row_heading level0 row8\" >95</th>\n",
       "                        <td id=\"T_913d23a8_2963_11e9_8d73_8c8590198db6row8_col0\" class=\"data row8 col0\" >thetrustedzone</td>\n",
       "                        <td id=\"T_913d23a8_2963_11e9_8d73_8c8590198db6row8_col1\" class=\"data row8 col1\" >2016-10-04 00:00:00</td>\n",
       "                        <td id=\"T_913d23a8_2963_11e9_8d73_8c8590198db6row8_col2\" class=\"data row8 col2\" >Cheap Web Traffic - $4.99 for 100,000 visitors</td>\n",
       "                        <td id=\"T_913d23a8_2963_11e9_8d73_8c8590198db6row8_col3\" class=\"data row8 col3\" >36</td>\n",
       "            </tr>\n",
       "            <tr>\n",
       "                        <th id=\"T_913d23a8_2963_11e9_8d73_8c8590198db6level0_row9\" class=\"row_heading level0 row9\" >284</th>\n",
       "                        <td id=\"T_913d23a8_2963_11e9_8d73_8c8590198db6row9_col0\" class=\"data row9 col0\" >gimme4free</td>\n",
       "                        <td id=\"T_913d23a8_2963_11e9_8d73_8c8590198db6row9_col1\" class=\"data row9 col1\" >2012-03-16 00:00:00</td>\n",
       "                        <td id=\"T_913d23a8_2963_11e9_8d73_8c8590198db6row9_col2\" class=\"data row9 col2\" >My Personal Pinterest.com Bot Collection</td>\n",
       "                        <td id=\"T_913d23a8_2963_11e9_8d73_8c8590198db6row9_col3\" class=\"data row9 col3\" >29</td>\n",
       "            </tr>\n",
       "    </tbody></table>"
      ],
      "text/plain": [
       "<pandas.io.formats.style.Styler at 0x10b9ec438>"
      ]
     },
     "execution_count": 7,
     "metadata": {},
     "output_type": "execute_result"
    }
   ],
   "source": [
    "df = pd.read_json('blackhatworld_misc_discussions.jl', lines=True)\n",
    "df[\"votes\"].fillna(0, inplace = True) \n",
    "df = df.sort_values(by=['votes'], ascending = False)\n",
    "df.head(10).style.set_properties(**{'text-align': 'left'})"
   ]
  },
  {
   "cell_type": "markdown",
   "metadata": {},
   "source": [
    "Let's see what the BlackHat community has to tell us about web scraping :)"
   ]
  },
  {
   "cell_type": "code",
   "execution_count": 8,
   "metadata": {},
   "outputs": [
    {
     "data": {
      "text/html": [
       "<style  type=\"text/css\" >\n",
       "    #T_9148ff36_2963_11e9_8138_8c8590198db6row0_col0 {\n",
       "            text-align:  left;\n",
       "        }    #T_9148ff36_2963_11e9_8138_8c8590198db6row0_col1 {\n",
       "            text-align:  left;\n",
       "        }    #T_9148ff36_2963_11e9_8138_8c8590198db6row0_col2 {\n",
       "            text-align:  left;\n",
       "        }    #T_9148ff36_2963_11e9_8138_8c8590198db6row0_col3 {\n",
       "            text-align:  left;\n",
       "        }    #T_9148ff36_2963_11e9_8138_8c8590198db6row1_col0 {\n",
       "            text-align:  left;\n",
       "        }    #T_9148ff36_2963_11e9_8138_8c8590198db6row1_col1 {\n",
       "            text-align:  left;\n",
       "        }    #T_9148ff36_2963_11e9_8138_8c8590198db6row1_col2 {\n",
       "            text-align:  left;\n",
       "        }    #T_9148ff36_2963_11e9_8138_8c8590198db6row1_col3 {\n",
       "            text-align:  left;\n",
       "        }    #T_9148ff36_2963_11e9_8138_8c8590198db6row2_col0 {\n",
       "            text-align:  left;\n",
       "        }    #T_9148ff36_2963_11e9_8138_8c8590198db6row2_col1 {\n",
       "            text-align:  left;\n",
       "        }    #T_9148ff36_2963_11e9_8138_8c8590198db6row2_col2 {\n",
       "            text-align:  left;\n",
       "        }    #T_9148ff36_2963_11e9_8138_8c8590198db6row2_col3 {\n",
       "            text-align:  left;\n",
       "        }    #T_9148ff36_2963_11e9_8138_8c8590198db6row3_col0 {\n",
       "            text-align:  left;\n",
       "        }    #T_9148ff36_2963_11e9_8138_8c8590198db6row3_col1 {\n",
       "            text-align:  left;\n",
       "        }    #T_9148ff36_2963_11e9_8138_8c8590198db6row3_col2 {\n",
       "            text-align:  left;\n",
       "        }    #T_9148ff36_2963_11e9_8138_8c8590198db6row3_col3 {\n",
       "            text-align:  left;\n",
       "        }    #T_9148ff36_2963_11e9_8138_8c8590198db6row4_col0 {\n",
       "            text-align:  left;\n",
       "        }    #T_9148ff36_2963_11e9_8138_8c8590198db6row4_col1 {\n",
       "            text-align:  left;\n",
       "        }    #T_9148ff36_2963_11e9_8138_8c8590198db6row4_col2 {\n",
       "            text-align:  left;\n",
       "        }    #T_9148ff36_2963_11e9_8138_8c8590198db6row4_col3 {\n",
       "            text-align:  left;\n",
       "        }</style><table id=\"T_9148ff36_2963_11e9_8138_8c8590198db6\" ><thead>    <tr>        <th class=\"blank level0\" ></th>        <th class=\"col_heading level0 col0\" >author</th>        <th class=\"col_heading level0 col1\" >date</th>        <th class=\"col_heading level0 col2\" >title</th>        <th class=\"col_heading level0 col3\" >votes</th>    </tr></thead><tbody>\n",
       "                <tr>\n",
       "                        <th id=\"T_9148ff36_2963_11e9_8138_8c8590198db6level0_row0\" class=\"row_heading level0 row0\" >24</th>\n",
       "                        <td id=\"T_9148ff36_2963_11e9_8138_8c8590198db6row0_col0\" class=\"data row0 col0\" >outscrape</td>\n",
       "                        <td id=\"T_9148ff36_2963_11e9_8138_8c8590198db6row0_col1\" class=\"data row0 col1\" >2018-04-08 00:00:00</td>\n",
       "                        <td id=\"T_9148ff36_2963_11e9_8138_8c8590198db6row0_col2\" class=\"data row0 col2\" >MAKE MONEY WITH WEB SCRAPING (Even If You've Never Tried) - Web Scraping Secrets Exposed - 150 pages</td>\n",
       "                        <td id=\"T_9148ff36_2963_11e9_8138_8c8590198db6row0_col3\" class=\"data row0 col3\" >3</td>\n",
       "            </tr>\n",
       "            <tr>\n",
       "                        <th id=\"T_9148ff36_2963_11e9_8138_8c8590198db6level0_row1\" class=\"row_heading level0 row1\" >217</th>\n",
       "                        <td id=\"T_9148ff36_2963_11e9_8138_8c8590198db6row1_col0\" class=\"data row1 col0\" >Alex D.</td>\n",
       "                        <td id=\"T_9148ff36_2963_11e9_8138_8c8590198db6row1_col1\" class=\"data row1 col1\" >2018-04-13 00:00:00</td>\n",
       "                        <td id=\"T_9148ff36_2963_11e9_8138_8c8590198db6row1_col2\" class=\"data row1 col2\" >Web Scraping Service – High Quality Data / Cheap Prices</td>\n",
       "                        <td id=\"T_9148ff36_2963_11e9_8138_8c8590198db6row1_col3\" class=\"data row1 col3\" >3</td>\n",
       "            </tr>\n",
       "            <tr>\n",
       "                        <th id=\"T_9148ff36_2963_11e9_8138_8c8590198db6level0_row2\" class=\"row_heading level0 row2\" >118</th>\n",
       "                        <td id=\"T_9148ff36_2963_11e9_8138_8c8590198db6row2_col0\" class=\"data row2 col0\" >sendlerad</td>\n",
       "                        <td id=\"T_9148ff36_2963_11e9_8138_8c8590198db6row2_col1\" class=\"data row2 col1\" >2018-10-17 00:00:00</td>\n",
       "                        <td id=\"T_9148ff36_2963_11e9_8138_8c8590198db6row2_col2\" class=\"data row2 col2\" >⚛️⚡Email Databases, Bulk Email Marketing Solutions, Data Cleaning, Scraping & MORE⭐✅</td>\n",
       "                        <td id=\"T_9148ff36_2963_11e9_8138_8c8590198db6row2_col3\" class=\"data row2 col3\" >0</td>\n",
       "            </tr>\n",
       "            <tr>\n",
       "                        <th id=\"T_9148ff36_2963_11e9_8138_8c8590198db6level0_row3\" class=\"row_heading level0 row3\" >189</th>\n",
       "                        <td id=\"T_9148ff36_2963_11e9_8138_8c8590198db6row3_col0\" class=\"data row3 col0\" >proxygo</td>\n",
       "                        <td id=\"T_9148ff36_2963_11e9_8138_8c8590198db6row3_col1\" class=\"data row3 col1\" >2011-09-04 00:00:00</td>\n",
       "                        <td id=\"T_9148ff36_2963_11e9_8138_8c8590198db6row3_col2\" class=\"data row3 col2\" >ScrapeBox Proxies - Yahoo/Google Scraping</td>\n",
       "                        <td id=\"T_9148ff36_2963_11e9_8138_8c8590198db6row3_col3\" class=\"data row3 col3\" >0</td>\n",
       "            </tr>\n",
       "            <tr>\n",
       "                        <th id=\"T_9148ff36_2963_11e9_8138_8c8590198db6level0_row4\" class=\"row_heading level0 row4\" >188</th>\n",
       "                        <td id=\"T_9148ff36_2963_11e9_8138_8c8590198db6row4_col0\" class=\"data row4 col0\" >proxygo</td>\n",
       "                        <td id=\"T_9148ff36_2963_11e9_8138_8c8590198db6row4_col1\" class=\"data row4 col1\" >2013-04-13 00:00:00</td>\n",
       "                        <td id=\"T_9148ff36_2963_11e9_8138_8c8590198db6row4_col2\" class=\"data row4 col2\" >Gscraper Scraping Proxies 3k Per Day</td>\n",
       "                        <td id=\"T_9148ff36_2963_11e9_8138_8c8590198db6row4_col3\" class=\"data row4 col3\" >0</td>\n",
       "            </tr>\n",
       "    </tbody></table>"
      ],
      "text/plain": [
       "<pandas.io.formats.style.Styler at 0x117ab5b38>"
      ]
     },
     "execution_count": 8,
     "metadata": {},
     "output_type": "execute_result"
    }
   ],
   "source": [
    "df[df['title'].str.contains(\"scraping\", case = False, na=False)].style.set_properties(**{'text-align': 'left'})"
   ]
  },
  {
   "cell_type": "code",
   "execution_count": null,
   "metadata": {},
   "outputs": [],
   "source": []
  }
 ],
 "metadata": {
  "kernelspec": {
   "display_name": "Python 3",
   "language": "python",
   "name": "python3"
  },
  "language_info": {
   "codemirror_mode": {
    "name": "ipython",
    "version": 3
   },
   "file_extension": ".py",
   "mimetype": "text/x-python",
   "name": "python",
   "nbconvert_exporter": "python",
   "pygments_lexer": "ipython3",
   "version": "3.6.8"
  }
 },
 "nbformat": 4,
 "nbformat_minor": 2
}
