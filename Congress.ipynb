{
 "cells": [
  {
   "cell_type": "markdown",
   "metadata": {},
   "source": [
    "Propublica Congress API demo.\n",
    "\n",
    "Follow installation instructions at https://propublica-congress.readthedocs.io/en/latest/ \n",
    "(Code below based on demo from the same page)"
   ]
  },
  {
   "cell_type": "code",
   "execution_count": null,
   "metadata": {
    "collapsed": true
   },
   "outputs": [],
   "source": [
    "from congress import Congress\n",
    "import pp_creds # Your .py file in this folder with API_KEY variable assigned with your Propublica API key\n",
    "\n",
    "API_KEY  = pp_creds.API_KEY\n",
    "congress = Congress(API_KEY)"
   ]
  },
  {
   "cell_type": "markdown",
   "metadata": {},
   "source": [
    "Using Members endpoint:"
   ]
  },
  {
   "cell_type": "code",
   "execution_count": null,
   "metadata": {},
   "outputs": [],
   "source": [
    "house = congress.members.filter('house')\n",
    "len([x for x in house[0]['members'] if x['in_office']])\n",
    "#house"
   ]
  },
  {
   "cell_type": "code",
   "execution_count": null,
   "metadata": {},
   "outputs": [],
   "source": [
    "# get member by bioguide ID\n",
    "member = congress.members.get('O000172')\n",
    "\n",
    "member['first_name'] + \" \" + member['last_name'], member['twitter_account'], member['youtube_account']"
   ]
  },
  {
   "cell_type": "code",
   "execution_count": null,
   "metadata": {},
   "outputs": [],
   "source": [
    "senate = congress.members.filter(\"Senate\")\n",
    "print(\"Only\", len([x for x in senate[0]['members'] if x['youtube_account']]), \"out of\", len(senate[0]['members']), \"senators have a YouTube channel.\")\n",
    "print(\"Only\", len([x for x in house[0]['members'] if x['youtube_account']]), \"out of\", len(house[0]['members']), \"house members have a YouTube channel.\")\n"
   ]
  },
  {
   "cell_type": "markdown",
   "metadata": {},
   "source": [
    "Bills endpoint: \n",
    "\n",
    "Get recent House bills\n",
    "Tecent bills come in two types: 'introduced' and 'updated'"
   ]
  },
  {
   "cell_type": "code",
   "execution_count": null,
   "metadata": {},
   "outputs": [],
   "source": [
    "introduced = congress.bills.recent(\n",
    "    chamber ='house',\n",
    "    congress=115,\n",
    "    type    ='introduced')\n",
    "# Or: introduced = congress.bills.introduced('house')\n",
    "\n",
    "len(introduced['bills'])"
   ]
  },
  {
   "cell_type": "code",
   "execution_count": null,
   "metadata": {},
   "outputs": [],
   "source": [
    "passed = congress.bills.passed('senate')\n",
    "len(passed['bills'])"
   ]
  },
  {
   "cell_type": "code",
   "execution_count": null,
   "metadata": {
    "scrolled": true
   },
   "outputs": [],
   "source": [
    "#passed['bills'][0]\n",
    "print(len([b for b in introduced['bills'] if b['sponsor_party']=='D']))\n",
    "print(len([b for b in passed['bills'] if b['sponsor_party']=='D']))"
   ]
  },
  {
   "cell_type": "code",
   "execution_count": null,
   "metadata": {
    "collapsed": true
   },
   "outputs": [],
   "source": []
  }
 ],
 "metadata": {
  "kernelspec": {
   "display_name": "Python 3",
   "language": "python",
   "name": "python3"
  },
  "language_info": {
   "codemirror_mode": {
    "name": "ipython",
    "version": 3
   },
   "file_extension": ".py",
   "mimetype": "text/x-python",
   "name": "python",
   "nbconvert_exporter": "python",
   "pygments_lexer": "ipython3",
   "version": "3.6.3"
  }
 },
 "nbformat": 4,
 "nbformat_minor": 2
}
