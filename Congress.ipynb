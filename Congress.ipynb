{
 "cells": [
  {
   "cell_type": "markdown",
   "metadata": {},
   "source": [
    "Propublica Congress API demo\n",
    "Based on demo at https://propublica-congress.readthedocs.io/en/latest/\n",
    "(with updates to correct issues)"
   ]
  },
  {
   "cell_type": "code",
   "execution_count": null,
   "metadata": {
    "collapsed": true
   },
   "outputs": [],
   "source": [
    "API_KEY = \"API_KEY\"\n",
    "\n",
    "from congress import Congress\n",
    "congress = Congress(API_KEY)"
   ]
  },
  {
   "cell_type": "markdown",
   "metadata": {},
   "source": [
    "Using Members endpoint:"
   ]
  },
  {
   "cell_type": "code",
   "execution_count": null,
   "metadata": {},
   "outputs": [],
   "source": [
    "# get member by bioguide ID\n",
    "pelosi = congress.members.get('P000197')\n",
    "\n",
    "pelosi['twitter_account']"
   ]
  },
  {
   "cell_type": "code",
   "execution_count": null,
   "metadata": {},
   "outputs": [],
   "source": [
    "senate = congress.members.filter(\"Senate\")\n",
    "len(senate[0]['members'])\n",
    "\n",
    "len([senator for senator in senate[0]['members'] if senator['in_office']])"
   ]
  },
  {
   "cell_type": "markdown",
   "metadata": {},
   "source": [
    "Bills endpoint: \n",
    "\n",
    "Get recent House bills\n",
    "Tecent bills come in two types: 'introduced' and 'updated'"
   ]
  },
  {
   "cell_type": "code",
   "execution_count": null,
   "metadata": {},
   "outputs": [],
   "source": [
    "introdcued = congress.bills.recent(\n",
    "    chamber ='house',\n",
    "    congress=115,\n",
    "    type    ='introduced')\n",
    "# Or: introduced = congress.bills.introduced('house')\n",
    "\n",
    "len(introdcued['bills'])"
   ]
  },
  {
   "cell_type": "code",
   "execution_count": null,
   "metadata": {},
   "outputs": [],
   "source": [
    "passed = congress.bills.passed('senate')\n",
    "len(passed['bills'])"
   ]
  },
  {
   "cell_type": "code",
   "execution_count": null,
   "metadata": {
    "scrolled": true
   },
   "outputs": [],
   "source": [
    "passed['bills'][0]"
   ]
  },
  {
   "cell_type": "code",
   "execution_count": null,
   "metadata": {
    "collapsed": true
   },
   "outputs": [],
   "source": []
  }
 ],
 "metadata": {
  "kernelspec": {
   "display_name": "Python 3",
   "language": "python",
   "name": "python3"
  },
  "language_info": {
   "codemirror_mode": {
    "name": "ipython",
    "version": 3
   },
   "file_extension": ".py",
   "mimetype": "text/x-python",
   "name": "python",
   "nbconvert_exporter": "python",
   "pygments_lexer": "ipython3",
   "version": "3.6.3"
  }
 },
 "nbformat": 4,
 "nbformat_minor": 2
}
