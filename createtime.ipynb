{
 "cells": [
  {
   "cell_type": "markdown",
   "metadata": {},
   "source": [
    "## Createtime analysis to find chunks of twitter bots\n",
    "\n",
    "This notebook performs a simple analysis of the seques of times at which Twitter follower accounts were created. It is the idea behind the plots in the NY Times \"Follower factory\" story from Jan 27, 2018:\n",
    "\n",
    "https://www.nytimes.com/interactive/2018/01/27/technology/social-media-bots.html\n",
    "\n",
    "Running the notebook requires a set of tokens for the Twitter API. To get your own tokens, see here:\n",
    "\n",
    "https://developer.twitter.com/en/docs/basics/authentication/overview\n",
    "\n",
    "I don't recommend trying to use this notebook unless you have a solid general understanding of python and web APIs, but still wanted to put it out there. Unless you have very good tokens, your patience will be severely tests if you try to use this notebook to look at users with >200k followers. So consider yourself advised."
   ]
  },
  {
   "cell_type": "code",
   "execution_count": null,
   "metadata": {
    "collapsed": true
   },
   "outputs": [],
   "source": [
    "import sys\n",
    "import string\n",
    "import simplejson\n",
    "from twython import Twython\n",
    "import matplotlib\n",
    "import matplotlib.pyplot as plt\n",
    "\n",
    "from datetime import datetime\n",
    "from dateutil import parser as dateparser\n",
    "import time\n",
    "\n",
    "import twitter_creds # Your .py file in this folder with API_KEY, API_SECRET, TOKEN, TOKEN_SECRET variables assigned\n",
    "\n",
    "#FOR OAUTH AUTHENTICATION -- NEEDED TO ACCESS THE TWITTER API\n",
    "t = Twython(app_key=twitter_creds.API_KEY, \n",
    "    app_secret=twitter_creds.API_SECRET,\n",
    "    oauth_token=twitter_creds.TOKEN,\n",
    "    oauth_token_secret=twitter_creds.TOKEN_SECRET)\n"
   ]
  },
  {
   "cell_type": "code",
   "execution_count": null,
   "metadata": {
    "collapsed": true
   },
   "outputs": [],
   "source": [
    "def chunker(seq, size):\n",
    "    return (seq[pos:pos + size] for pos in range(0, len(seq), size))"
   ]
  },
  {
   "cell_type": "code",
   "execution_count": null,
   "metadata": {
    "collapsed": true
   },
   "outputs": [],
   "source": [
    "#ego_screenname -- the person you're looking to query for\n",
    "#ego_screenname = \"jugander\"\n",
    "\n",
    "# \"Bot scholars\" that may be useful to look at\n",
    "#ego_screenname = \"gilgul\"\n",
    "\n",
    "ego_screenname = \"informor\"\n",
    "#ego_screenname = \"suneman\"\n",
    "#ego_screenname = \"yy\"\n",
    "\n",
    "ego_id = t.lookup_user(screen_name=ego_screenname)[0]['id_str']"
   ]
  },
  {
   "cell_type": "code",
   "execution_count": null,
   "metadata": {},
   "outputs": [],
   "source": [
    "# Get the follower list. \n",
    "# Rate limiting caps this at ~80000 followers every 900 seconds. Hacky pauses added. \n",
    "follower_list = []\n",
    "nextcurs = -1\n",
    "sleep_step=60\n",
    "\n",
    "while (nextcurs != 0):\n",
    "    remaining = t.get_lastfunction_header(header='x-rate-limit-remaining')\n",
    "    secs = int(t.get_lastfunction_header(header='x-rate-limit-reset')) - int(datetime.now().timestamp())\n",
    "    if ((int(remaining) == 0) and (secs >= 0)):\n",
    "        print(\"Waiting \" + str(secs) + \" seconds...\")\n",
    "        secs+=3 # extra\n",
    "        while secs > 0:\n",
    "                time.sleep(min(secs, sleep_step))\n",
    "                print(str(secs) + \"remaining\")\n",
    "                secs-=sleep_step\n",
    "    \n",
    "    follower_object = t.get_followers_ids(user_id = ego_id, count = 5000, cursor = nextcurs)\n",
    "    follower_list += follower_object['ids']\n",
    "    nextcurs = follower_object['next_cursor']\n",
    "    print(len(follower_list)) "
   ]
  },
  {
   "cell_type": "code",
   "execution_count": null,
   "metadata": {},
   "outputs": [],
   "source": [
    "# Status of API allowances from last call\n",
    "print(\"Allowed \" + str(t.get_lastfunction_header(header='x-rate-limit-remaining')) +\n",
    "      \" more follow requests over the next \" + \n",
    "      str(int(t.get_lastfunction_header(header='x-rate-limit-reset')) - int(datetime.now().timestamp())) +\n",
    "        \" seconds.\")\n",
    "\n",
    "len(follower_list)"
   ]
  },
  {
   "cell_type": "code",
   "execution_count": null,
   "metadata": {},
   "outputs": [],
   "source": [
    "# Once you have the followers, now need to gather the create_times of those followers\n",
    "\n",
    "# Optionally downsample\n",
    "if (len(follower_list) > 20000):\n",
    "    downsample_rate = 2\n",
    "else:\n",
    "    downsample_rate = 1\n",
    "\n",
    "# Begin\n",
    "i          = downsample_rate\n",
    "k          = 0\n",
    "ts_list_mk = []\n",
    "chunk_size = 100\n",
    "\n",
    "for follower_chunk in chunker(follower_list,chunk_size):\n",
    "    k += chunk_size\n",
    "    if (i == downsample_rate):\n",
    "        i = 1\n",
    "    else:\n",
    "        i += 1\n",
    "        continue\n",
    "    \n",
    "    if isinstance(t.get_lastfunction_header(header='x-rate-limit-reset'),str):\n",
    "        remaining = t.get_lastfunction_header(header='x-rate-limit-remaining')\n",
    "        secs = int(t.get_lastfunction_header(header='x-rate-limit-reset')) - int(datetime.now().timestamp())\n",
    "        if ((int(remaining) == 0) and (secs >= 0)):\n",
    "            print(\"Waiting \" + str(secs) + \" seconds...\")\n",
    "            time.sleep(secs+2)\n",
    "\n",
    "    user_objects = t.lookup_user(user_id=follower_chunk)\n",
    "    ts_mk        = [dateparser.parse(u['created_at']).timestamp() for u in user_objects]\n",
    "    #    Next two lines will give you \"date last posted\" instead of \"date created\"\n",
    "    #    user_objects = [u for u in user_objects if 'status' in u]  \n",
    "    #    ts_mk        = [dateparser.parse(u['status']['created_at']).timestamp() for u in user_objects]\n",
    "    ts_list_mk  += ts_mk\n",
    "    print(str(len(ts_list_mk)) + \" \" + str(k)) \n"
   ]
  },
  {
   "cell_type": "code",
   "execution_count": null,
   "metadata": {
    "collapsed": true
   },
   "outputs": [],
   "source": [
    "ts_list_dt = [datetime.fromtimestamp(x) for x in ts_list_mk]\n",
    "ts_list_dt.reverse()"
   ]
  },
  {
   "cell_type": "code",
   "execution_count": null,
   "metadata": {},
   "outputs": [],
   "source": [
    "# API status again, from last call\n",
    "print(\"Allowed \" + str(t.get_lastfunction_header(header='x-rate-limit-remaining')) +\n",
    "      \" more user requests over the next \" + \n",
    "      str(int(t.get_lastfunction_header(header='x-rate-limit-reset')) - int(datetime.now().timestamp())) +\n",
    "        \" seconds.\")\n",
    "\n",
    "len(ts_list_dt)"
   ]
  },
  {
   "cell_type": "code",
   "execution_count": null,
   "metadata": {},
   "outputs": [],
   "source": [
    "# Histogram of create_times, sometimes reveals things:\n",
    "\n",
    "plt.hist(ts_list_dt,bins=100)\n",
    "plt.show()"
   ]
  },
  {
   "cell_type": "code",
   "execution_count": null,
   "metadata": {},
   "outputs": [],
   "source": [
    "# The \"createtime fingerprint\"\n",
    "\n",
    "start=1\n",
    "stop=len(ts_list_dt)\n",
    "plt.plot(range(len(ts_list_dt[start:stop])),ts_list_dt[start:stop],'r.',markersize=2);\n",
    "fig = plt.gcf()\n",
    "fig.set_size_inches(10, 6)\n",
    "plt.xlabel('follower number')\n",
    "plt.ylabel('account creation date')\n",
    "plt.title(ego_screenname)\n",
    "plt.show()\n"
   ]
  },
  {
   "cell_type": "markdown",
   "metadata": {},
   "source": [
    "### Other links:\n",
    "\n",
    "* Sune's writing on bots (2013):\n",
    "https://sunelehmann.com/2013/12/04/youre-here-because-of-a-robot/\n",
    "\n",
    "* Gilad's writing on bots (2014):\n",
    "https://medium.com/i-data/fake-friends-with-real-benefits-eec8c4693bd3"
   ]
  },
  {
   "cell_type": "code",
   "execution_count": null,
   "metadata": {
    "collapsed": true
   },
   "outputs": [],
   "source": [
    "# Clear Twython object from notebook\n",
    "t = None"
   ]
  }
 ],
 "metadata": {
  "kernelspec": {
   "display_name": "Python 3",
   "language": "python",
   "name": "python3"
  },
  "language_info": {
   "codemirror_mode": {
    "name": "ipython",
    "version": 3
   },
   "file_extension": ".py",
   "mimetype": "text/x-python",
   "name": "python",
   "nbconvert_exporter": "python",
   "pygments_lexer": "ipython3",
   "version": "3.6.3"
  }
 },
 "nbformat": 4,
 "nbformat_minor": 2
}
